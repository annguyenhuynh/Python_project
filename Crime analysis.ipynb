{
 "cells": [
  {
   "cell_type": "code",
   "execution_count": 43,
   "id": "851e7423",
   "metadata": {},
   "outputs": [],
   "source": [
    "import pandas as pd\n",
    "import numpy as np\n",
    "import matplotlib.pyplot as plt\n",
    "import seaborn as sns\n",
    "\n",
    "%matplotlib inline"
   ]
  },
  {
   "cell_type": "code",
   "execution_count": 44,
   "id": "2383bc3d",
   "metadata": {},
   "outputs": [
    {
     "data": {
      "text/html": [
       "<div>\n",
       "<style scoped>\n",
       "    .dataframe tbody tr th:only-of-type {\n",
       "        vertical-align: middle;\n",
       "    }\n",
       "\n",
       "    .dataframe tbody tr th {\n",
       "        vertical-align: top;\n",
       "    }\n",
       "\n",
       "    .dataframe thead th {\n",
       "        text-align: right;\n",
       "    }\n",
       "</style>\n",
       "<table border=\"1\" class=\"dataframe\">\n",
       "  <thead>\n",
       "    <tr style=\"text-align: right;\">\n",
       "      <th></th>\n",
       "      <th>INCIDENT_NUMBER</th>\n",
       "      <th>OFFENSE_CODE</th>\n",
       "      <th>OFFENSE_CODE_GROUP</th>\n",
       "      <th>OFFENSE_DESCRIPTION</th>\n",
       "      <th>DISTRICT</th>\n",
       "      <th>REPORTING_AREA</th>\n",
       "      <th>SHOOTING</th>\n",
       "      <th>OCCURRED_ON_DATE</th>\n",
       "      <th>YEAR</th>\n",
       "      <th>MONTH</th>\n",
       "      <th>DAY_OF_WEEK</th>\n",
       "      <th>HOUR</th>\n",
       "      <th>UCR_PART</th>\n",
       "      <th>STREET</th>\n",
       "      <th>Lat</th>\n",
       "      <th>Long</th>\n",
       "      <th>Location</th>\n",
       "    </tr>\n",
       "  </thead>\n",
       "  <tbody>\n",
       "    <tr>\n",
       "      <th>0</th>\n",
       "      <td>I182070945</td>\n",
       "      <td>619</td>\n",
       "      <td>Larceny</td>\n",
       "      <td>LARCENY ALL OTHERS</td>\n",
       "      <td>D14</td>\n",
       "      <td>808</td>\n",
       "      <td>NaN</td>\n",
       "      <td>2018-09-02 13:00:00</td>\n",
       "      <td>2018</td>\n",
       "      <td>9</td>\n",
       "      <td>Sunday</td>\n",
       "      <td>13</td>\n",
       "      <td>Part One</td>\n",
       "      <td>LINCOLN ST</td>\n",
       "      <td>42.357791</td>\n",
       "      <td>-71.139371</td>\n",
       "      <td>(42.35779134, -71.13937053)</td>\n",
       "    </tr>\n",
       "    <tr>\n",
       "      <th>1</th>\n",
       "      <td>I182070943</td>\n",
       "      <td>1402</td>\n",
       "      <td>Vandalism</td>\n",
       "      <td>VANDALISM</td>\n",
       "      <td>C11</td>\n",
       "      <td>347</td>\n",
       "      <td>NaN</td>\n",
       "      <td>2018-08-21 00:00:00</td>\n",
       "      <td>2018</td>\n",
       "      <td>8</td>\n",
       "      <td>Tuesday</td>\n",
       "      <td>0</td>\n",
       "      <td>Part Two</td>\n",
       "      <td>HECLA ST</td>\n",
       "      <td>42.306821</td>\n",
       "      <td>-71.060300</td>\n",
       "      <td>(42.30682138, -71.06030035)</td>\n",
       "    </tr>\n",
       "    <tr>\n",
       "      <th>2</th>\n",
       "      <td>I182070941</td>\n",
       "      <td>3410</td>\n",
       "      <td>Towed</td>\n",
       "      <td>TOWED MOTOR VEHICLE</td>\n",
       "      <td>D4</td>\n",
       "      <td>151</td>\n",
       "      <td>NaN</td>\n",
       "      <td>2018-09-03 19:27:00</td>\n",
       "      <td>2018</td>\n",
       "      <td>9</td>\n",
       "      <td>Monday</td>\n",
       "      <td>19</td>\n",
       "      <td>Part Three</td>\n",
       "      <td>CAZENOVE ST</td>\n",
       "      <td>42.346589</td>\n",
       "      <td>-71.072429</td>\n",
       "      <td>(42.34658879, -71.07242943)</td>\n",
       "    </tr>\n",
       "    <tr>\n",
       "      <th>3</th>\n",
       "      <td>I182070940</td>\n",
       "      <td>3114</td>\n",
       "      <td>Investigate Property</td>\n",
       "      <td>INVESTIGATE PROPERTY</td>\n",
       "      <td>D4</td>\n",
       "      <td>272</td>\n",
       "      <td>NaN</td>\n",
       "      <td>2018-09-03 21:16:00</td>\n",
       "      <td>2018</td>\n",
       "      <td>9</td>\n",
       "      <td>Monday</td>\n",
       "      <td>21</td>\n",
       "      <td>Part Three</td>\n",
       "      <td>NEWCOMB ST</td>\n",
       "      <td>42.334182</td>\n",
       "      <td>-71.078664</td>\n",
       "      <td>(42.33418175, -71.07866441)</td>\n",
       "    </tr>\n",
       "    <tr>\n",
       "      <th>4</th>\n",
       "      <td>I182070938</td>\n",
       "      <td>3114</td>\n",
       "      <td>Investigate Property</td>\n",
       "      <td>INVESTIGATE PROPERTY</td>\n",
       "      <td>B3</td>\n",
       "      <td>421</td>\n",
       "      <td>NaN</td>\n",
       "      <td>2018-09-03 21:05:00</td>\n",
       "      <td>2018</td>\n",
       "      <td>9</td>\n",
       "      <td>Monday</td>\n",
       "      <td>21</td>\n",
       "      <td>Part Three</td>\n",
       "      <td>DELHI ST</td>\n",
       "      <td>42.275365</td>\n",
       "      <td>-71.090361</td>\n",
       "      <td>(42.27536542, -71.09036101)</td>\n",
       "    </tr>\n",
       "  </tbody>\n",
       "</table>\n",
       "</div>"
      ],
      "text/plain": [
       "  INCIDENT_NUMBER  OFFENSE_CODE    OFFENSE_CODE_GROUP   OFFENSE_DESCRIPTION  \\\n",
       "0      I182070945           619               Larceny    LARCENY ALL OTHERS   \n",
       "1      I182070943          1402             Vandalism             VANDALISM   \n",
       "2      I182070941          3410                 Towed   TOWED MOTOR VEHICLE   \n",
       "3      I182070940          3114  Investigate Property  INVESTIGATE PROPERTY   \n",
       "4      I182070938          3114  Investigate Property  INVESTIGATE PROPERTY   \n",
       "\n",
       "  DISTRICT REPORTING_AREA SHOOTING     OCCURRED_ON_DATE  YEAR  MONTH  \\\n",
       "0      D14            808      NaN  2018-09-02 13:00:00  2018      9   \n",
       "1      C11            347      NaN  2018-08-21 00:00:00  2018      8   \n",
       "2       D4            151      NaN  2018-09-03 19:27:00  2018      9   \n",
       "3       D4            272      NaN  2018-09-03 21:16:00  2018      9   \n",
       "4       B3            421      NaN  2018-09-03 21:05:00  2018      9   \n",
       "\n",
       "  DAY_OF_WEEK  HOUR    UCR_PART       STREET        Lat       Long  \\\n",
       "0      Sunday    13    Part One   LINCOLN ST  42.357791 -71.139371   \n",
       "1     Tuesday     0    Part Two     HECLA ST  42.306821 -71.060300   \n",
       "2      Monday    19  Part Three  CAZENOVE ST  42.346589 -71.072429   \n",
       "3      Monday    21  Part Three   NEWCOMB ST  42.334182 -71.078664   \n",
       "4      Monday    21  Part Three     DELHI ST  42.275365 -71.090361   \n",
       "\n",
       "                      Location  \n",
       "0  (42.35779134, -71.13937053)  \n",
       "1  (42.30682138, -71.06030035)  \n",
       "2  (42.34658879, -71.07242943)  \n",
       "3  (42.33418175, -71.07866441)  \n",
       "4  (42.27536542, -71.09036101)  "
      ]
     },
     "execution_count": 44,
     "metadata": {},
     "output_type": "execute_result"
    }
   ],
   "source": [
    "df = pd.read_csv(\"crime.csv\",encoding = 'latin1')\n",
    "df.head()"
   ]
  },
  {
   "cell_type": "code",
   "execution_count": 45,
   "id": "46e6849e",
   "metadata": {},
   "outputs": [
    {
     "data": {
      "text/plain": [
       "INCIDENT_NUMBER             0\n",
       "OFFENSE_CODE                0\n",
       "OFFENSE_CODE_GROUP          0\n",
       "OFFENSE_DESCRIPTION         0\n",
       "DISTRICT                 1765\n",
       "REPORTING_AREA              0\n",
       "SHOOTING               318054\n",
       "OCCURRED_ON_DATE            0\n",
       "YEAR                        0\n",
       "MONTH                       0\n",
       "DAY_OF_WEEK                 0\n",
       "HOUR                        0\n",
       "UCR_PART                   90\n",
       "STREET                  10871\n",
       "Lat                     19999\n",
       "Long                    19999\n",
       "Location                    0\n",
       "dtype: int64"
      ]
     },
     "execution_count": 45,
     "metadata": {},
     "output_type": "execute_result"
    }
   ],
   "source": [
    "df.isnull().sum() #Check missing values in each column"
   ]
  },
  {
   "cell_type": "code",
   "execution_count": 46,
   "id": "733bb8db",
   "metadata": {},
   "outputs": [
    {
     "data": {
      "text/plain": [
       "23"
      ]
     },
     "execution_count": 46,
     "metadata": {},
     "output_type": "execute_result"
    }
   ],
   "source": [
    "df.duplicated().sum() #Check for duplicates in the data"
   ]
  },
  {
   "cell_type": "code",
   "execution_count": 47,
   "id": "66dba1aa",
   "metadata": {},
   "outputs": [],
   "source": [
    "df.drop_duplicates(inplace=True) #Elimincate duplicates"
   ]
  },
  {
   "cell_type": "code",
   "execution_count": 48,
   "id": "8d45b9e6",
   "metadata": {},
   "outputs": [
    {
     "data": {
      "text/plain": [
       "(319050, 17)"
      ]
     },
     "execution_count": 48,
     "metadata": {},
     "output_type": "execute_result"
    }
   ],
   "source": [
    "df.shape"
   ]
  },
  {
   "cell_type": "code",
   "execution_count": 49,
   "id": "a0f37813",
   "metadata": {},
   "outputs": [
    {
     "name": "stdout",
     "output_type": "stream",
     "text": [
      "<class 'pandas.core.frame.DataFrame'>\n",
      "Int64Index: 319050 entries, 0 to 319072\n",
      "Data columns (total 17 columns):\n",
      " #   Column               Non-Null Count   Dtype  \n",
      "---  ------               --------------   -----  \n",
      " 0   INCIDENT_NUMBER      319050 non-null  object \n",
      " 1   OFFENSE_CODE         319050 non-null  int64  \n",
      " 2   OFFENSE_CODE_GROUP   319050 non-null  object \n",
      " 3   OFFENSE_DESCRIPTION  319050 non-null  object \n",
      " 4   DISTRICT             317285 non-null  object \n",
      " 5   REPORTING_AREA       319050 non-null  object \n",
      " 6   SHOOTING             1019 non-null    object \n",
      " 7   OCCURRED_ON_DATE     319050 non-null  object \n",
      " 8   YEAR                 319050 non-null  int64  \n",
      " 9   MONTH                319050 non-null  int64  \n",
      " 10  DAY_OF_WEEK          319050 non-null  object \n",
      " 11  HOUR                 319050 non-null  int64  \n",
      " 12  UCR_PART             318960 non-null  object \n",
      " 13  STREET               308179 non-null  object \n",
      " 14  Lat                  299052 non-null  float64\n",
      " 15  Long                 299052 non-null  float64\n",
      " 16  Location             319050 non-null  object \n",
      "dtypes: float64(2), int64(4), object(11)\n",
      "memory usage: 43.8+ MB\n"
     ]
    }
   ],
   "source": [
    "df.info()"
   ]
  },
  {
   "cell_type": "code",
   "execution_count": 50,
   "id": "c2a5df31",
   "metadata": {},
   "outputs": [],
   "source": [
    "df['OCCURRED_ON_DATE'] = pd.to_datetime(df['OCCURRED_ON_DATE']) #Correct data type"
   ]
  },
  {
   "cell_type": "code",
   "execution_count": 51,
   "id": "85f4c00d",
   "metadata": {},
   "outputs": [
    {
     "name": "stdout",
     "output_type": "stream",
     "text": [
      "<class 'pandas.core.frame.DataFrame'>\n",
      "Int64Index: 319050 entries, 0 to 319072\n",
      "Data columns (total 17 columns):\n",
      " #   Column               Non-Null Count   Dtype         \n",
      "---  ------               --------------   -----         \n",
      " 0   INCIDENT_NUMBER      319050 non-null  object        \n",
      " 1   OFFENSE_CODE         319050 non-null  int64         \n",
      " 2   OFFENSE_CODE_GROUP   319050 non-null  object        \n",
      " 3   OFFENSE_DESCRIPTION  319050 non-null  object        \n",
      " 4   DISTRICT             317285 non-null  object        \n",
      " 5   REPORTING_AREA       319050 non-null  object        \n",
      " 6   SHOOTING             1019 non-null    object        \n",
      " 7   OCCURRED_ON_DATE     319050 non-null  datetime64[ns]\n",
      " 8   YEAR                 319050 non-null  int64         \n",
      " 9   MONTH                319050 non-null  int64         \n",
      " 10  DAY_OF_WEEK          319050 non-null  object        \n",
      " 11  HOUR                 319050 non-null  int64         \n",
      " 12  UCR_PART             318960 non-null  object        \n",
      " 13  STREET               308179 non-null  object        \n",
      " 14  Lat                  299052 non-null  float64       \n",
      " 15  Long                 299052 non-null  float64       \n",
      " 16  Location             319050 non-null  object        \n",
      "dtypes: datetime64[ns](1), float64(2), int64(4), object(10)\n",
      "memory usage: 43.8+ MB\n"
     ]
    }
   ],
   "source": [
    "df.info()"
   ]
  },
  {
   "cell_type": "code",
   "execution_count": 52,
   "id": "1f784351",
   "metadata": {},
   "outputs": [
    {
     "data": {
      "text/plain": [
       "0         2018\n",
       "1         2018\n",
       "2         2018\n",
       "3         2018\n",
       "4         2018\n",
       "          ... \n",
       "319068    2016\n",
       "319069    2015\n",
       "319070    2015\n",
       "319071    2016\n",
       "319072    2015\n",
       "Name: OCCURRED_ON_DATE, Length: 319050, dtype: int64"
      ]
     },
     "execution_count": 52,
     "metadata": {},
     "output_type": "execute_result"
    }
   ],
   "source": [
    "df['OCCURRED_ON_DATE'].dt.year"
   ]
  },
  {
   "cell_type": "code",
   "execution_count": 53,
   "id": "8b8c5a67",
   "metadata": {},
   "outputs": [
    {
     "data": {
      "text/plain": [
       "0         9\n",
       "1         8\n",
       "2         9\n",
       "3         9\n",
       "4         9\n",
       "         ..\n",
       "319068    6\n",
       "319069    7\n",
       "319070    7\n",
       "319071    5\n",
       "319072    6\n",
       "Name: OCCURRED_ON_DATE, Length: 319050, dtype: int64"
      ]
     },
     "execution_count": 53,
     "metadata": {},
     "output_type": "execute_result"
    }
   ],
   "source": [
    "df['OCCURRED_ON_DATE'].dt.month"
   ]
  },
  {
   "cell_type": "code",
   "execution_count": 54,
   "id": "d48b47aa",
   "metadata": {},
   "outputs": [
    {
     "name": "stderr",
     "output_type": "stream",
     "text": [
      "/var/folders/4p/strpkrbd1y782g01xksphyv40000gn/T/ipykernel_72398/789257686.py:1: FutureWarning: Series.dt.weekofyear and Series.dt.week have been deprecated. Please use Series.dt.isocalendar().week instead.\n",
      "  df['OCCURRED_ON_DATE'].dt.week\n"
     ]
    },
    {
     "data": {
      "text/plain": [
       "0         35\n",
       "1         34\n",
       "2         36\n",
       "3         36\n",
       "4         36\n",
       "          ..\n",
       "319068    22\n",
       "319069    28\n",
       "319070    28\n",
       "319071    22\n",
       "319072    26\n",
       "Name: OCCURRED_ON_DATE, Length: 319050, dtype: int64"
      ]
     },
     "execution_count": 54,
     "metadata": {},
     "output_type": "execute_result"
    }
   ],
   "source": [
    "df['OCCURRED_ON_DATE'].dt.week"
   ]
  },
  {
   "cell_type": "code",
   "execution_count": 55,
   "id": "cf582bca",
   "metadata": {},
   "outputs": [
    {
     "data": {
      "text/plain": [
       "0         13\n",
       "1          0\n",
       "2         19\n",
       "3         21\n",
       "4         21\n",
       "          ..\n",
       "319068    17\n",
       "319069    13\n",
       "319070    13\n",
       "319071    19\n",
       "319072     0\n",
       "Name: OCCURRED_ON_DATE, Length: 319050, dtype: int64"
      ]
     },
     "execution_count": 55,
     "metadata": {},
     "output_type": "execute_result"
    }
   ],
   "source": [
    "df['OCCURRED_ON_DATE'].dt.hour"
   ]
  },
  {
   "cell_type": "code",
   "execution_count": 56,
   "id": "09b236b1",
   "metadata": {},
   "outputs": [
    {
     "data": {
      "text/html": [
       "<div>\n",
       "<style scoped>\n",
       "    .dataframe tbody tr th:only-of-type {\n",
       "        vertical-align: middle;\n",
       "    }\n",
       "\n",
       "    .dataframe tbody tr th {\n",
       "        vertical-align: top;\n",
       "    }\n",
       "\n",
       "    .dataframe thead th {\n",
       "        text-align: right;\n",
       "    }\n",
       "</style>\n",
       "<table border=\"1\" class=\"dataframe\">\n",
       "  <thead>\n",
       "    <tr style=\"text-align: right;\">\n",
       "      <th></th>\n",
       "      <th>OFFENSE_CODE</th>\n",
       "      <th>YEAR</th>\n",
       "      <th>MONTH</th>\n",
       "      <th>HOUR</th>\n",
       "      <th>Lat</th>\n",
       "      <th>Long</th>\n",
       "    </tr>\n",
       "  </thead>\n",
       "  <tbody>\n",
       "    <tr>\n",
       "      <th>count</th>\n",
       "      <td>319050.000000</td>\n",
       "      <td>319050.000000</td>\n",
       "      <td>319050.000000</td>\n",
       "      <td>319050.000000</td>\n",
       "      <td>299052.000000</td>\n",
       "      <td>299052.000000</td>\n",
       "    </tr>\n",
       "    <tr>\n",
       "      <th>mean</th>\n",
       "      <td>2317.516957</td>\n",
       "      <td>2016.560674</td>\n",
       "      <td>6.609622</td>\n",
       "      <td>13.118176</td>\n",
       "      <td>42.214373</td>\n",
       "      <td>-70.908260</td>\n",
       "    </tr>\n",
       "    <tr>\n",
       "      <th>std</th>\n",
       "      <td>1185.308921</td>\n",
       "      <td>0.996312</td>\n",
       "      <td>3.273677</td>\n",
       "      <td>6.294258</td>\n",
       "      <td>2.159845</td>\n",
       "      <td>3.493746</td>\n",
       "    </tr>\n",
       "    <tr>\n",
       "      <th>min</th>\n",
       "      <td>111.000000</td>\n",
       "      <td>2015.000000</td>\n",
       "      <td>1.000000</td>\n",
       "      <td>0.000000</td>\n",
       "      <td>-1.000000</td>\n",
       "      <td>-71.178674</td>\n",
       "    </tr>\n",
       "    <tr>\n",
       "      <th>25%</th>\n",
       "      <td>1001.000000</td>\n",
       "      <td>2016.000000</td>\n",
       "      <td>4.000000</td>\n",
       "      <td>9.000000</td>\n",
       "      <td>42.297438</td>\n",
       "      <td>-71.097135</td>\n",
       "    </tr>\n",
       "    <tr>\n",
       "      <th>50%</th>\n",
       "      <td>2907.000000</td>\n",
       "      <td>2017.000000</td>\n",
       "      <td>7.000000</td>\n",
       "      <td>14.000000</td>\n",
       "      <td>42.325538</td>\n",
       "      <td>-71.077524</td>\n",
       "    </tr>\n",
       "    <tr>\n",
       "      <th>75%</th>\n",
       "      <td>3201.000000</td>\n",
       "      <td>2017.000000</td>\n",
       "      <td>9.000000</td>\n",
       "      <td>18.000000</td>\n",
       "      <td>42.348624</td>\n",
       "      <td>-71.062467</td>\n",
       "    </tr>\n",
       "    <tr>\n",
       "      <th>max</th>\n",
       "      <td>3831.000000</td>\n",
       "      <td>2018.000000</td>\n",
       "      <td>12.000000</td>\n",
       "      <td>23.000000</td>\n",
       "      <td>42.395042</td>\n",
       "      <td>-1.000000</td>\n",
       "    </tr>\n",
       "  </tbody>\n",
       "</table>\n",
       "</div>"
      ],
      "text/plain": [
       "        OFFENSE_CODE           YEAR          MONTH           HOUR  \\\n",
       "count  319050.000000  319050.000000  319050.000000  319050.000000   \n",
       "mean     2317.516957    2016.560674       6.609622      13.118176   \n",
       "std      1185.308921       0.996312       3.273677       6.294258   \n",
       "min       111.000000    2015.000000       1.000000       0.000000   \n",
       "25%      1001.000000    2016.000000       4.000000       9.000000   \n",
       "50%      2907.000000    2017.000000       7.000000      14.000000   \n",
       "75%      3201.000000    2017.000000       9.000000      18.000000   \n",
       "max      3831.000000    2018.000000      12.000000      23.000000   \n",
       "\n",
       "                 Lat           Long  \n",
       "count  299052.000000  299052.000000  \n",
       "mean       42.214373     -70.908260  \n",
       "std         2.159845       3.493746  \n",
       "min        -1.000000     -71.178674  \n",
       "25%        42.297438     -71.097135  \n",
       "50%        42.325538     -71.077524  \n",
       "75%        42.348624     -71.062467  \n",
       "max        42.395042      -1.000000  "
      ]
     },
     "execution_count": 56,
     "metadata": {},
     "output_type": "execute_result"
    }
   ],
   "source": [
    "df.describe()"
   ]
  },
  {
   "cell_type": "code",
   "execution_count": 57,
   "id": "436e4788",
   "metadata": {},
   "outputs": [
    {
     "data": {
      "text/html": [
       "<div>\n",
       "<style scoped>\n",
       "    .dataframe tbody tr th:only-of-type {\n",
       "        vertical-align: middle;\n",
       "    }\n",
       "\n",
       "    .dataframe tbody tr th {\n",
       "        vertical-align: top;\n",
       "    }\n",
       "\n",
       "    .dataframe thead th {\n",
       "        text-align: right;\n",
       "    }\n",
       "</style>\n",
       "<table border=\"1\" class=\"dataframe\">\n",
       "  <thead>\n",
       "    <tr style=\"text-align: right;\">\n",
       "      <th></th>\n",
       "      <th>INCIDENT_NUMBER</th>\n",
       "      <th>OFFENSE_CODE_GROUP</th>\n",
       "      <th>OFFENSE_DESCRIPTION</th>\n",
       "      <th>DISTRICT</th>\n",
       "      <th>REPORTING_AREA</th>\n",
       "      <th>SHOOTING</th>\n",
       "      <th>DAY_OF_WEEK</th>\n",
       "      <th>UCR_PART</th>\n",
       "      <th>STREET</th>\n",
       "      <th>Location</th>\n",
       "    </tr>\n",
       "  </thead>\n",
       "  <tbody>\n",
       "    <tr>\n",
       "      <th>count</th>\n",
       "      <td>319050</td>\n",
       "      <td>319050</td>\n",
       "      <td>319050</td>\n",
       "      <td>317285</td>\n",
       "      <td>319050</td>\n",
       "      <td>1019</td>\n",
       "      <td>319050</td>\n",
       "      <td>318960</td>\n",
       "      <td>308179</td>\n",
       "      <td>319050</td>\n",
       "    </tr>\n",
       "    <tr>\n",
       "      <th>unique</th>\n",
       "      <td>282517</td>\n",
       "      <td>67</td>\n",
       "      <td>244</td>\n",
       "      <td>12</td>\n",
       "      <td>879</td>\n",
       "      <td>1</td>\n",
       "      <td>7</td>\n",
       "      <td>4</td>\n",
       "      <td>4657</td>\n",
       "      <td>18194</td>\n",
       "    </tr>\n",
       "    <tr>\n",
       "      <th>top</th>\n",
       "      <td>I162030584</td>\n",
       "      <td>Motor Vehicle Accident Response</td>\n",
       "      <td>SICK/INJURED/MEDICAL - PERSON</td>\n",
       "      <td>B2</td>\n",
       "      <td></td>\n",
       "      <td>Y</td>\n",
       "      <td>Friday</td>\n",
       "      <td>Part Three</td>\n",
       "      <td>WASHINGTON ST</td>\n",
       "      <td>(0.00000000, 0.00000000)</td>\n",
       "    </tr>\n",
       "    <tr>\n",
       "      <th>freq</th>\n",
       "      <td>13</td>\n",
       "      <td>37132</td>\n",
       "      <td>18783</td>\n",
       "      <td>49940</td>\n",
       "      <td>20250</td>\n",
       "      <td>1019</td>\n",
       "      <td>48489</td>\n",
       "      <td>158537</td>\n",
       "      <td>14192</td>\n",
       "      <td>19998</td>\n",
       "    </tr>\n",
       "  </tbody>\n",
       "</table>\n",
       "</div>"
      ],
      "text/plain": [
       "       INCIDENT_NUMBER               OFFENSE_CODE_GROUP  \\\n",
       "count           319050                           319050   \n",
       "unique          282517                               67   \n",
       "top         I162030584  Motor Vehicle Accident Response   \n",
       "freq                13                            37132   \n",
       "\n",
       "                  OFFENSE_DESCRIPTION DISTRICT REPORTING_AREA SHOOTING  \\\n",
       "count                          319050   317285         319050     1019   \n",
       "unique                            244       12            879        1   \n",
       "top     SICK/INJURED/MEDICAL - PERSON       B2                       Y   \n",
       "freq                            18783    49940          20250     1019   \n",
       "\n",
       "       DAY_OF_WEEK    UCR_PART         STREET                  Location  \n",
       "count       319050      318960         308179                    319050  \n",
       "unique           7           4           4657                     18194  \n",
       "top         Friday  Part Three  WASHINGTON ST  (0.00000000, 0.00000000)  \n",
       "freq         48489      158537          14192                     19998  "
      ]
     },
     "execution_count": 57,
     "metadata": {},
     "output_type": "execute_result"
    }
   ],
   "source": [
    "df.describe(include='object')"
   ]
  },
  {
   "cell_type": "code",
   "execution_count": 58,
   "id": "74aaf8a0",
   "metadata": {},
   "outputs": [
    {
     "data": {
      "text/plain": [
       "Index(['INCIDENT_NUMBER', 'OFFENSE_CODE', 'OFFENSE_CODE_GROUP',\n",
       "       'OFFENSE_DESCRIPTION', 'DISTRICT', 'REPORTING_AREA', 'SHOOTING',\n",
       "       'OCCURRED_ON_DATE', 'YEAR', 'MONTH', 'DAY_OF_WEEK', 'HOUR', 'UCR_PART',\n",
       "       'STREET', 'Lat', 'Long', 'Location'],\n",
       "      dtype='object')"
      ]
     },
     "execution_count": 58,
     "metadata": {},
     "output_type": "execute_result"
    }
   ],
   "source": [
    "df.columns"
   ]
  },
  {
   "cell_type": "markdown",
   "id": "381d9ebf",
   "metadata": {},
   "source": [
    "### Let's do some exploratory data analysis"
   ]
  },
  {
   "cell_type": "code",
   "execution_count": 59,
   "id": "5019e5f3",
   "metadata": {},
   "outputs": [
    {
     "data": {
      "text/plain": [
       "Motor Vehicle Accident Response              37132\n",
       "Larceny                                      25935\n",
       "Medical Assistance                           23540\n",
       "Investigate Person                           18749\n",
       "Other                                        18073\n",
       "                                             ...  \n",
       "HUMAN TRAFFICKING                                7\n",
       "INVESTIGATE PERSON                               4\n",
       "Biological Threat                                2\n",
       "HUMAN TRAFFICKING - INVOLUNTARY SERVITUDE        2\n",
       "Burglary - No Property Taken                     2\n",
       "Name: OFFENSE_CODE_GROUP, Length: 67, dtype: int64"
      ]
     },
     "execution_count": 59,
     "metadata": {},
     "output_type": "execute_result"
    }
   ],
   "source": [
    "#1. What are the most common crime in terms of offense group\n",
    "df.OFFENSE_CODE_GROUP.value_counts()"
   ]
  },
  {
   "cell_type": "code",
   "execution_count": 60,
   "id": "4fc7c18d",
   "metadata": {},
   "outputs": [
    {
     "data": {
      "text/plain": [
       "Motor Vehicle Accident Response    0.116383\n",
       "Larceny                            0.081288\n",
       "Medical Assistance                 0.073782\n",
       "Investigate Person                 0.058765\n",
       "Other                              0.056646\n",
       "Drug Violation                     0.051857\n",
       "Simple Assault                     0.049604\n",
       "Vandalism                          0.048312\n",
       "Verbal Disputes                    0.041056\n",
       "Towed                              0.035377\n",
       "Name: OFFENSE_CODE_GROUP, dtype: float64"
      ]
     },
     "metadata": {},
     "output_type": "display_data"
    },
    {
     "data": {
      "text/plain": [
       "Text(0.5, 1.0, 'Top 10 offense crimes (as % of all crime)')"
      ]
     },
     "execution_count": 60,
     "metadata": {},
     "output_type": "execute_result"
    },
    {
     "data": {
      "image/png": "[encoded data removed]",
      "text/plain": [
       "<Figure size 720x576 with 1 Axes>"
      ]
     },
     "metadata": {
      "needs_background": "light"
     },
     "output_type": "display_data"
    }
   ],
   "source": [
    "# Plot top 10 crimes in offense group as percentage of all crimes\n",
    "offense_vals = df.OFFENSE_CODE_GROUP.value_counts()[:10]\n",
    "\n",
    "display(offense_vals / df.shape[0])\n",
    "\n",
    "#Create a bar plot\n",
    "plt.figure(figsize=(10,8))\n",
    "(offense_vals / df.shape[0]).plot(kind=\"bar\")\n",
    "plt.title(\"Top 10 offense crimes (as % of all crime)\",fontsize=16)\n",
    "                            "
   ]
  },
  {
   "cell_type": "code",
   "execution_count": 61,
   "id": "e5431c2e",
   "metadata": {},
   "outputs": [
    {
     "data": {
      "text/plain": [
       "Burglary - No Property Taken                  2\n",
       "HUMAN TRAFFICKING - INVOLUNTARY SERVITUDE     2\n",
       "Biological Threat                             2\n",
       "INVESTIGATE PERSON                            4\n",
       "HUMAN TRAFFICKING                             7\n",
       "Gambling                                      8\n",
       "Manslaughter                                  8\n",
       "Explosives                                   27\n",
       "Phone Call Complaints                        31\n",
       "Aircraft                                     36\n",
       "Name: OFFENSE_CODE_GROUP, dtype: int64"
      ]
     },
     "execution_count": 61,
     "metadata": {},
     "output_type": "execute_result"
    }
   ],
   "source": [
    "#2. What are the least common offense group\n",
    "df.OFFENSE_CODE_GROUP.value_counts().sort_values(ascending=True)[:10]"
   ]
  },
  {
   "cell_type": "code",
   "execution_count": 62,
   "id": "8683ab53",
   "metadata": {},
   "outputs": [
    {
     "data": {
      "text/plain": [
       "SICK/INJURED/MEDICAL - PERSON            0.058872\n",
       "INVESTIGATE PERSON                       0.058778\n",
       "M/V - LEAVING SCENE - PROPERTY DAMAGE    0.051161\n",
       "VANDALISM                                0.047494\n",
       "ASSAULT SIMPLE - BATTERY                 0.046360\n",
       "VERBAL DISPUTE                           0.041056\n",
       "TOWED MOTOR VEHICLE                      0.035377\n",
       "INVESTIGATE PROPERTY                     0.034866\n",
       "LARCENY THEFT FROM BUILDING              0.028425\n",
       "THREATS TO DO BODILY HARM                0.028340\n",
       "Name: OFFENSE_DESCRIPTION, dtype: float64"
      ]
     },
     "metadata": {},
     "output_type": "display_data"
    },
    {
     "data": {
      "text/plain": [
       "Text(0.5, 1.0, 'Top 10 offense description (as % of total crimes)')"
      ]
     },
     "execution_count": 62,
     "metadata": {},
     "output_type": "execute_result"
    },
    {
     "data": {
      "image/png": "[encoded data removed]",
      "text/plain": [
       "<Figure size 720x576 with 1 Axes>"
      ]
     },
     "metadata": {
      "needs_background": "light"
     },
     "output_type": "display_data"
    }
   ],
   "source": [
    "#3. What are the most common offense description?\n",
    "od_vals = df.OFFENSE_DESCRIPTION.value_counts().sort_values(ascending=False)[:10]\n",
    "\n",
    "display(od_vals/df.shape[0])\n",
    "\n",
    "plt.figure(figsize=(10,8))\n",
    "(od_vals/df.shape[0]).plot(kind=\"bar\")\n",
    "plt.title(\"Top 10 offense description (as % of total crimes)\",fontsize=16)\n",
    "                                                                "
   ]
  },
  {
   "cell_type": "code",
   "execution_count": 63,
   "id": "c3872fc3",
   "metadata": {},
   "outputs": [
    {
     "data": {
      "text/plain": [
       "YEAR\n",
       "2015     53371\n",
       "2016     99110\n",
       "2017    100884\n",
       "2018     65685\n",
       "Name: INCIDENT_NUMBER, dtype: int64"
      ]
     },
     "metadata": {},
     "output_type": "display_data"
    },
    {
     "data": {
      "text/plain": [
       "Text(0.5, 1.0, 'Total crimes by year')"
      ]
     },
     "execution_count": 63,
     "metadata": {},
     "output_type": "execute_result"
    },
    {
     "data": {
      "image/png": "[encoded data removed]",
      "text/plain": [
       "<Figure size 720x576 with 1 Axes>"
      ]
     },
     "metadata": {
      "needs_background": "light"
     },
     "output_type": "display_data"
    }
   ],
   "source": [
    "# 3. In which year were the most crimes committed?\n",
    "crimes_by_year = df.groupby('YEAR').count()['INCIDENT_NUMBER']\n",
    "display(crimes_by_year)\n",
    "\n",
    "plt.figure(figsize=(10,8))\n",
    "crimes_by_year.plot(kind=\"bar\",color=\"orange\")\n",
    "plt.title(\"Total crimes by year\",fontsize=16)"
   ]
  },
  {
   "cell_type": "code",
   "execution_count": 64,
   "id": "0f753136",
   "metadata": {},
   "outputs": [
    {
     "data": {
      "text/plain": [
       "DAY_OF_WEEK\n",
       "Friday       48489\n",
       "Monday       45674\n",
       "Saturday     44816\n",
       "Sunday       40313\n",
       "Thursday     46655\n",
       "Tuesday      46376\n",
       "Wednesday    46727\n",
       "Name: INCIDENT_NUMBER, dtype: int64"
      ]
     },
     "execution_count": 64,
     "metadata": {},
     "output_type": "execute_result"
    }
   ],
   "source": [
    "#4. Are there more crimes committed on specific days?\n",
    "crimes_by_day=df.groupby('DAY_OF_WEEK').count()['INCIDENT_NUMBER']\n",
    "crimes_by_day"
   ]
  },
  {
   "cell_type": "code",
   "execution_count": 65,
   "id": "48bcd36c",
   "metadata": {},
   "outputs": [
    {
     "data": {
      "image/png": "[encoded data removed]",
      "text/plain": [
       "<Figure size 432x288 with 1 Axes>"
      ]
     },
     "metadata": {},
     "output_type": "display_data"
    }
   ],
   "source": [
    "#Try building a donut chart to show crime percentage on each day\n",
    "labels = ['Friday','Monday','Saturday','Sunday','Thursday','Tuesday','Wednesday']\n",
    "explode = (0,0.1,0,0,0,0,0)\n",
    "\n",
    "plt.pie(crimes_by_day,\n",
    "       labels = labels,\n",
    "       explode=explode,\n",
    "        startangle=50,\n",
    "        radius=2,\n",
    "        colors=['orange','lime','red','blue','yellow','green','purple'],\n",
    "       shadow = True,\n",
    "        pctdistance=0.75,\n",
    "       autopct = '%1.2f%%')\n",
    "circle = plt.Circle((0,0), radius=1,color='white')\n",
    "c=plt.gcf()\n",
    "\n",
    "c.gca().add_artist(circle)\n",
    "\n",
    "plt.show()\n",
    "\n",
    "#The chart is not useful in this case because it's hard to see the difference among the days"
   ]
  },
  {
   "cell_type": "code",
   "execution_count": 66,
   "id": "c36f4f56",
   "metadata": {},
   "outputs": [
    {
     "data": {
      "text/plain": [
       "Text(0, 0.5, 'Day')"
      ]
     },
     "execution_count": 66,
     "metadata": {},
     "output_type": "execute_result"
    },
    {
     "data": {
      "image/png": "[encoded data removed]",
      "text/plain": [
       "<Figure size 720x576 with 1 Axes>"
      ]
     },
     "metadata": {
      "needs_background": "light"
     },
     "output_type": "display_data"
    }
   ],
   "source": [
    "plt.figure(figsize=(10,8))\n",
    "crimes_by_day.plot(kind=\"barh\",color='pink')\n",
    "plt.title(\"Crimes by day\", fontsize=16)\n",
    "plt.ylabel(\"Day\")"
   ]
  },
  {
   "cell_type": "code",
   "execution_count": 67,
   "id": "aec4989a",
   "metadata": {},
   "outputs": [
    {
     "data": {
      "text/plain": [
       "Text(0.5, 1.0, 'Crimes by hour')"
      ]
     },
     "execution_count": 67,
     "metadata": {},
     "output_type": "execute_result"
    },
    {
     "data": {
      "image/png": "[encoded data removed]",
      "text/plain": [
       "<Figure size 720x576 with 1 Axes>"
      ]
     },
     "metadata": {
      "needs_background": "light"
     },
     "output_type": "display_data"
    }
   ],
   "source": [
    "plt.figure(figsize = (10,8))\n",
    "df.groupby('HOUR').count()['INCIDENT_NUMBER'].plot(kind=\"bar\")\n",
    "plt.title(\"Crimes by hour\",fontsize=16)"
   ]
  },
  {
   "cell_type": "code",
   "execution_count": 68,
   "id": "aa0c9a82",
   "metadata": {},
   "outputs": [
    {
     "data": {
      "text/html": [
       "<div>\n",
       "<style scoped>\n",
       "    .dataframe tbody tr th:only-of-type {\n",
       "        vertical-align: middle;\n",
       "    }\n",
       "\n",
       "    .dataframe tbody tr th {\n",
       "        vertical-align: top;\n",
       "    }\n",
       "\n",
       "    .dataframe thead th {\n",
       "        text-align: right;\n",
       "    }\n",
       "</style>\n",
       "<table border=\"1\" class=\"dataframe\">\n",
       "  <thead>\n",
       "    <tr style=\"text-align: right;\">\n",
       "      <th>DAY_OF_WEEK</th>\n",
       "      <th>Friday</th>\n",
       "      <th>Monday</th>\n",
       "      <th>Saturday</th>\n",
       "      <th>Sunday</th>\n",
       "      <th>Thursday</th>\n",
       "      <th>Tuesday</th>\n",
       "      <th>Wednesday</th>\n",
       "    </tr>\n",
       "    <tr>\n",
       "      <th>HOUR</th>\n",
       "      <th></th>\n",
       "      <th></th>\n",
       "      <th></th>\n",
       "      <th></th>\n",
       "      <th></th>\n",
       "      <th></th>\n",
       "      <th></th>\n",
       "    </tr>\n",
       "  </thead>\n",
       "  <tbody>\n",
       "    <tr>\n",
       "      <th>0</th>\n",
       "      <td>2161</td>\n",
       "      <td>2000</td>\n",
       "      <td>2612</td>\n",
       "      <td>2400</td>\n",
       "      <td>2039</td>\n",
       "      <td>1897</td>\n",
       "      <td>1997</td>\n",
       "    </tr>\n",
       "    <tr>\n",
       "      <th>1</th>\n",
       "      <td>1275</td>\n",
       "      <td>1058</td>\n",
       "      <td>1855</td>\n",
       "      <td>2043</td>\n",
       "      <td>1077</td>\n",
       "      <td>1017</td>\n",
       "      <td>942</td>\n",
       "    </tr>\n",
       "    <tr>\n",
       "      <th>2</th>\n",
       "      <td>952</td>\n",
       "      <td>846</td>\n",
       "      <td>1827</td>\n",
       "      <td>1855</td>\n",
       "      <td>774</td>\n",
       "      <td>641</td>\n",
       "      <td>798</td>\n",
       "    </tr>\n",
       "    <tr>\n",
       "      <th>3</th>\n",
       "      <td>532</td>\n",
       "      <td>583</td>\n",
       "      <td>957</td>\n",
       "      <td>1119</td>\n",
       "      <td>526</td>\n",
       "      <td>460</td>\n",
       "      <td>412</td>\n",
       "    </tr>\n",
       "    <tr>\n",
       "      <th>4</th>\n",
       "      <td>441</td>\n",
       "      <td>386</td>\n",
       "      <td>672</td>\n",
       "      <td>704</td>\n",
       "      <td>436</td>\n",
       "      <td>399</td>\n",
       "      <td>370</td>\n",
       "    </tr>\n",
       "    <tr>\n",
       "      <th>5</th>\n",
       "      <td>485</td>\n",
       "      <td>417</td>\n",
       "      <td>478</td>\n",
       "      <td>517</td>\n",
       "      <td>508</td>\n",
       "      <td>462</td>\n",
       "      <td>444</td>\n",
       "    </tr>\n",
       "    <tr>\n",
       "      <th>6</th>\n",
       "      <td>768</td>\n",
       "      <td>709</td>\n",
       "      <td>530</td>\n",
       "      <td>543</td>\n",
       "      <td>866</td>\n",
       "      <td>787</td>\n",
       "      <td>823</td>\n",
       "    </tr>\n",
       "    <tr>\n",
       "      <th>7</th>\n",
       "      <td>1398</td>\n",
       "      <td>1352</td>\n",
       "      <td>1078</td>\n",
       "      <td>758</td>\n",
       "      <td>1405</td>\n",
       "      <td>1418</td>\n",
       "      <td>1441</td>\n",
       "    </tr>\n",
       "    <tr>\n",
       "      <th>8</th>\n",
       "      <td>2041</td>\n",
       "      <td>2046</td>\n",
       "      <td>1515</td>\n",
       "      <td>1123</td>\n",
       "      <td>2037</td>\n",
       "      <td>2145</td>\n",
       "      <td>2135</td>\n",
       "    </tr>\n",
       "    <tr>\n",
       "      <th>9</th>\n",
       "      <td>2299</td>\n",
       "      <td>2148</td>\n",
       "      <td>1812</td>\n",
       "      <td>1457</td>\n",
       "      <td>2325</td>\n",
       "      <td>2322</td>\n",
       "      <td>2377</td>\n",
       "    </tr>\n",
       "    <tr>\n",
       "      <th>10</th>\n",
       "      <td>2668</td>\n",
       "      <td>2432</td>\n",
       "      <td>2064</td>\n",
       "      <td>1778</td>\n",
       "      <td>2496</td>\n",
       "      <td>2414</td>\n",
       "      <td>2493</td>\n",
       "    </tr>\n",
       "    <tr>\n",
       "      <th>11</th>\n",
       "      <td>2552</td>\n",
       "      <td>2373</td>\n",
       "      <td>2042</td>\n",
       "      <td>1802</td>\n",
       "      <td>2548</td>\n",
       "      <td>2529</td>\n",
       "      <td>2599</td>\n",
       "    </tr>\n",
       "    <tr>\n",
       "      <th>12</th>\n",
       "      <td>2860</td>\n",
       "      <td>2746</td>\n",
       "      <td>2588</td>\n",
       "      <td>2135</td>\n",
       "      <td>2821</td>\n",
       "      <td>2681</td>\n",
       "      <td>2845</td>\n",
       "    </tr>\n",
       "    <tr>\n",
       "      <th>13</th>\n",
       "      <td>2499</td>\n",
       "      <td>2479</td>\n",
       "      <td>2223</td>\n",
       "      <td>1980</td>\n",
       "      <td>2576</td>\n",
       "      <td>2493</td>\n",
       "      <td>2595</td>\n",
       "    </tr>\n",
       "    <tr>\n",
       "      <th>14</th>\n",
       "      <td>2601</td>\n",
       "      <td>2485</td>\n",
       "      <td>2378</td>\n",
       "      <td>2029</td>\n",
       "      <td>2536</td>\n",
       "      <td>2555</td>\n",
       "      <td>2605</td>\n",
       "    </tr>\n",
       "    <tr>\n",
       "      <th>15</th>\n",
       "      <td>2566</td>\n",
       "      <td>2438</td>\n",
       "      <td>2084</td>\n",
       "      <td>1918</td>\n",
       "      <td>2531</td>\n",
       "      <td>2503</td>\n",
       "      <td>2479</td>\n",
       "    </tr>\n",
       "    <tr>\n",
       "      <th>16</th>\n",
       "      <td>3073</td>\n",
       "      <td>3029</td>\n",
       "      <td>2445</td>\n",
       "      <td>2216</td>\n",
       "      <td>2974</td>\n",
       "      <td>3080</td>\n",
       "      <td>3053</td>\n",
       "    </tr>\n",
       "    <tr>\n",
       "      <th>17</th>\n",
       "      <td>3252</td>\n",
       "      <td>3253</td>\n",
       "      <td>2555</td>\n",
       "      <td>2377</td>\n",
       "      <td>2931</td>\n",
       "      <td>3241</td>\n",
       "      <td>3153</td>\n",
       "    </tr>\n",
       "    <tr>\n",
       "      <th>18</th>\n",
       "      <td>3010</td>\n",
       "      <td>3089</td>\n",
       "      <td>2528</td>\n",
       "      <td>2326</td>\n",
       "      <td>3033</td>\n",
       "      <td>3217</td>\n",
       "      <td>3098</td>\n",
       "    </tr>\n",
       "    <tr>\n",
       "      <th>19</th>\n",
       "      <td>2564</td>\n",
       "      <td>2606</td>\n",
       "      <td>2301</td>\n",
       "      <td>2114</td>\n",
       "      <td>2510</td>\n",
       "      <td>2768</td>\n",
       "      <td>2724</td>\n",
       "    </tr>\n",
       "    <tr>\n",
       "      <th>20</th>\n",
       "      <td>2307</td>\n",
       "      <td>2319</td>\n",
       "      <td>2131</td>\n",
       "      <td>2109</td>\n",
       "      <td>2349</td>\n",
       "      <td>2369</td>\n",
       "      <td>2265</td>\n",
       "    </tr>\n",
       "    <tr>\n",
       "      <th>21</th>\n",
       "      <td>2089</td>\n",
       "      <td>2003</td>\n",
       "      <td>2077</td>\n",
       "      <td>1902</td>\n",
       "      <td>2070</td>\n",
       "      <td>1925</td>\n",
       "      <td>2043</td>\n",
       "    </tr>\n",
       "    <tr>\n",
       "      <th>22</th>\n",
       "      <td>2160</td>\n",
       "      <td>1634</td>\n",
       "      <td>2113</td>\n",
       "      <td>1728</td>\n",
       "      <td>1795</td>\n",
       "      <td>1757</td>\n",
       "      <td>1738</td>\n",
       "    </tr>\n",
       "    <tr>\n",
       "      <th>23</th>\n",
       "      <td>1936</td>\n",
       "      <td>1243</td>\n",
       "      <td>1951</td>\n",
       "      <td>1380</td>\n",
       "      <td>1492</td>\n",
       "      <td>1296</td>\n",
       "      <td>1298</td>\n",
       "    </tr>\n",
       "  </tbody>\n",
       "</table>\n",
       "</div>"
      ],
      "text/plain": [
       "DAY_OF_WEEK  Friday  Monday  Saturday  Sunday  Thursday  Tuesday  Wednesday\n",
       "HOUR                                                                       \n",
       "0              2161    2000      2612    2400      2039     1897       1997\n",
       "1              1275    1058      1855    2043      1077     1017        942\n",
       "2               952     846      1827    1855       774      641        798\n",
       "3               532     583       957    1119       526      460        412\n",
       "4               441     386       672     704       436      399        370\n",
       "5               485     417       478     517       508      462        444\n",
       "6               768     709       530     543       866      787        823\n",
       "7              1398    1352      1078     758      1405     1418       1441\n",
       "8              2041    2046      1515    1123      2037     2145       2135\n",
       "9              2299    2148      1812    1457      2325     2322       2377\n",
       "10             2668    2432      2064    1778      2496     2414       2493\n",
       "11             2552    2373      2042    1802      2548     2529       2599\n",
       "12             2860    2746      2588    2135      2821     2681       2845\n",
       "13             2499    2479      2223    1980      2576     2493       2595\n",
       "14             2601    2485      2378    2029      2536     2555       2605\n",
       "15             2566    2438      2084    1918      2531     2503       2479\n",
       "16             3073    3029      2445    2216      2974     3080       3053\n",
       "17             3252    3253      2555    2377      2931     3241       3153\n",
       "18             3010    3089      2528    2326      3033     3217       3098\n",
       "19             2564    2606      2301    2114      2510     2768       2724\n",
       "20             2307    2319      2131    2109      2349     2369       2265\n",
       "21             2089    2003      2077    1902      2070     1925       2043\n",
       "22             2160    1634      2113    1728      1795     1757       1738\n",
       "23             1936    1243      1951    1380      1492     1296       1298"
      ]
     },
     "execution_count": 68,
     "metadata": {},
     "output_type": "execute_result"
    }
   ],
   "source": [
    "#5. On what day and by which hours were most crimes committed?\n",
    "week_hour = df.groupby(['HOUR','DAY_OF_WEEK']).count()['INCIDENT_NUMBER'].unstack()\n",
    "week_hour"
   ]
  },
  {
   "cell_type": "code",
   "execution_count": 69,
   "id": "50d80173",
   "metadata": {},
   "outputs": [
    {
     "name": "stderr",
     "output_type": "stream",
     "text": [
      "/var/folders/4p/strpkrbd1y782g01xksphyv40000gn/T/ipykernel_72398/2307468860.py:1: UserWarning: Pandas doesn't allow columns to be created via a new attribute name - see https://pandas.pydata.org/pandas-docs/stable/indexing.html#attribute-access\n",
      "  week_hour.column=['Monday','Tuesday','Wednesday','Thursday','Friday','Saturday','Sunday']\n"
     ]
    }
   ],
   "source": [
    "week_hour.column=['Monday','Tuesday','Wednesday','Thursday','Friday','Saturday','Sunday']"
   ]
  },
  {
   "cell_type": "code",
   "execution_count": 70,
   "id": "913ecd87",
   "metadata": {},
   "outputs": [
    {
     "data": {
      "text/plain": [
       "<AxesSubplot:xlabel='DAY_OF_WEEK', ylabel='HOUR'>"
      ]
     },
     "execution_count": 70,
     "metadata": {},
     "output_type": "execute_result"
    },
    {
     "data": {
      "image/png": "[encoded data removed]",
      "text/plain": [
       "<Figure size 720x576 with 2 Axes>"
      ]
     },
     "metadata": {
      "needs_background": "light"
     },
     "output_type": "display_data"
    }
   ],
   "source": [
    "plt.figure(figsize=(10,8))\n",
    "sns.heatmap(week_hour,cmap=sns.cubehelix_palette(as_cmap=True))"
   ]
  },
  {
   "cell_type": "code",
   "execution_count": 71,
   "id": "7c7a3b56",
   "metadata": {},
   "outputs": [
    {
     "name": "stdout",
     "output_type": "stream",
     "text": [
      "The average number of crime is 7976.25\n"
     ]
    },
    {
     "data": {
      "text/html": [
       "<style type=\"text/css\">\n",
       "#T_ab477_row0_col1, #T_ab477_row0_col3, #T_ab477_row1_col1, #T_ab477_row1_col2, #T_ab477_row1_col3, #T_ab477_row2_col3, #T_ab477_row3_col3, #T_ab477_row5_col0, #T_ab477_row8_col3, #T_ab477_row10_col0, #T_ab477_row10_col1, #T_ab477_row10_col2, #T_ab477_row11_col1, #T_ab477_row11_col2 {\n",
       "  color: blue;\n",
       "}\n",
       "</style>\n",
       "<table id=\"T_ab477\">\n",
       "  <thead>\n",
       "    <tr>\n",
       "      <th class=\"index_name level0\" >YEAR</th>\n",
       "      <th id=\"T_ab477_level0_col0\" class=\"col_heading level0 col0\" >2015</th>\n",
       "      <th id=\"T_ab477_level0_col1\" class=\"col_heading level0 col1\" >2016</th>\n",
       "      <th id=\"T_ab477_level0_col2\" class=\"col_heading level0 col2\" >2017</th>\n",
       "      <th id=\"T_ab477_level0_col3\" class=\"col_heading level0 col3\" >2018</th>\n",
       "    </tr>\n",
       "    <tr>\n",
       "      <th class=\"index_name level0\" >MONTH</th>\n",
       "      <th class=\"blank col0\" >&nbsp;</th>\n",
       "      <th class=\"blank col1\" >&nbsp;</th>\n",
       "      <th class=\"blank col2\" >&nbsp;</th>\n",
       "      <th class=\"blank col3\" >&nbsp;</th>\n",
       "    </tr>\n",
       "  </thead>\n",
       "  <tbody>\n",
       "    <tr>\n",
       "      <th id=\"T_ab477_level0_row0\" class=\"row_heading level0 row0\" >1</th>\n",
       "      <td id=\"T_ab477_row0_col0\" class=\"data row0 col0\" >nan</td>\n",
       "      <td id=\"T_ab477_row0_col1\" class=\"data row0 col1\" >7835.000000</td>\n",
       "      <td id=\"T_ab477_row0_col2\" class=\"data row0 col2\" >7991.000000</td>\n",
       "      <td id=\"T_ab477_row0_col3\" class=\"data row0 col3\" >7782.000000</td>\n",
       "    </tr>\n",
       "    <tr>\n",
       "      <th id=\"T_ab477_level0_row1\" class=\"row_heading level0 row1\" >2</th>\n",
       "      <td id=\"T_ab477_row1_col0\" class=\"data row1 col0\" >nan</td>\n",
       "      <td id=\"T_ab477_row1_col1\" class=\"data row1 col1\" >7307.000000</td>\n",
       "      <td id=\"T_ab477_row1_col2\" class=\"data row1 col2\" >7408.000000</td>\n",
       "      <td id=\"T_ab477_row1_col3\" class=\"data row1 col3\" >6937.000000</td>\n",
       "    </tr>\n",
       "    <tr>\n",
       "      <th id=\"T_ab477_level0_row2\" class=\"row_heading level0 row2\" >3</th>\n",
       "      <td id=\"T_ab477_row2_col0\" class=\"data row2 col0\" >nan</td>\n",
       "      <td id=\"T_ab477_row2_col1\" class=\"data row2 col1\" >8199.000000</td>\n",
       "      <td id=\"T_ab477_row2_col2\" class=\"data row2 col2\" >8179.000000</td>\n",
       "      <td id=\"T_ab477_row2_col3\" class=\"data row2 col3\" >7768.000000</td>\n",
       "    </tr>\n",
       "    <tr>\n",
       "      <th id=\"T_ab477_level0_row3\" class=\"row_heading level0 row3\" >4</th>\n",
       "      <td id=\"T_ab477_row3_col0\" class=\"data row3 col0\" >nan</td>\n",
       "      <td id=\"T_ab477_row3_col1\" class=\"data row3 col1\" >8101.000000</td>\n",
       "      <td id=\"T_ab477_row3_col2\" class=\"data row3 col2\" >8069.000000</td>\n",
       "      <td id=\"T_ab477_row3_col3\" class=\"data row3 col3\" >7916.000000</td>\n",
       "    </tr>\n",
       "    <tr>\n",
       "      <th id=\"T_ab477_level0_row4\" class=\"row_heading level0 row4\" >5</th>\n",
       "      <td id=\"T_ab477_row4_col0\" class=\"data row4 col0\" >nan</td>\n",
       "      <td id=\"T_ab477_row4_col1\" class=\"data row4 col1\" >8578.000000</td>\n",
       "      <td id=\"T_ab477_row4_col2\" class=\"data row4 col2\" >8715.000000</td>\n",
       "      <td id=\"T_ab477_row4_col3\" class=\"data row4 col3\" >8906.000000</td>\n",
       "    </tr>\n",
       "    <tr>\n",
       "      <th id=\"T_ab477_level0_row5\" class=\"row_heading level0 row5\" >6</th>\n",
       "      <td id=\"T_ab477_row5_col0\" class=\"data row5 col0\" >4188.000000</td>\n",
       "      <td id=\"T_ab477_row5_col1\" class=\"data row5 col1\" >8558.000000</td>\n",
       "      <td id=\"T_ab477_row5_col2\" class=\"data row5 col2\" >8985.000000</td>\n",
       "      <td id=\"T_ab477_row5_col3\" class=\"data row5 col3\" >8834.000000</td>\n",
       "    </tr>\n",
       "    <tr>\n",
       "      <th id=\"T_ab477_level0_row6\" class=\"row_heading level0 row6\" >7</th>\n",
       "      <td id=\"T_ab477_row6_col0\" class=\"data row6 col0\" >8322.000000</td>\n",
       "      <td id=\"T_ab477_row6_col1\" class=\"data row6 col1\" >8618.000000</td>\n",
       "      <td id=\"T_ab477_row6_col2\" class=\"data row6 col2\" >9075.000000</td>\n",
       "      <td id=\"T_ab477_row6_col3\" class=\"data row6 col3\" >8538.000000</td>\n",
       "    </tr>\n",
       "    <tr>\n",
       "      <th id=\"T_ab477_level0_row7\" class=\"row_heading level0 row7\" >8</th>\n",
       "      <td id=\"T_ab477_row7_col0\" class=\"data row7 col0\" >8340.000000</td>\n",
       "      <td id=\"T_ab477_row7_col1\" class=\"data row7 col1\" >8938.000000</td>\n",
       "      <td id=\"T_ab477_row7_col2\" class=\"data row7 col2\" >9206.000000</td>\n",
       "      <td id=\"T_ab477_row7_col3\" class=\"data row7 col3\" >8337.000000</td>\n",
       "    </tr>\n",
       "    <tr>\n",
       "      <th id=\"T_ab477_level0_row8\" class=\"row_heading level0 row8\" >9</th>\n",
       "      <td id=\"T_ab477_row8_col0\" class=\"data row8 col0\" >8411.000000</td>\n",
       "      <td id=\"T_ab477_row8_col1\" class=\"data row8 col1\" >8521.000000</td>\n",
       "      <td id=\"T_ab477_row8_col2\" class=\"data row8 col2\" >8940.000000</td>\n",
       "      <td id=\"T_ab477_row8_col3\" class=\"data row8 col3\" >667.000000</td>\n",
       "    </tr>\n",
       "    <tr>\n",
       "      <th id=\"T_ab477_level0_row9\" class=\"row_heading level0 row9\" >10</th>\n",
       "      <td id=\"T_ab477_row9_col0\" class=\"data row9 col0\" >8305.000000</td>\n",
       "      <td id=\"T_ab477_row9_col1\" class=\"data row9 col1\" >8582.000000</td>\n",
       "      <td id=\"T_ab477_row9_col2\" class=\"data row9 col2\" >8846.000000</td>\n",
       "      <td id=\"T_ab477_row9_col3\" class=\"data row9 col3\" >nan</td>\n",
       "    </tr>\n",
       "    <tr>\n",
       "      <th id=\"T_ab477_level0_row10\" class=\"row_heading level0 row10\" >11</th>\n",
       "      <td id=\"T_ab477_row10_col0\" class=\"data row10 col0\" >7818.000000</td>\n",
       "      <td id=\"T_ab477_row10_col1\" class=\"data row10 col1\" >7922.000000</td>\n",
       "      <td id=\"T_ab477_row10_col2\" class=\"data row10 col2\" >7935.000000</td>\n",
       "      <td id=\"T_ab477_row10_col3\" class=\"data row10 col3\" >nan</td>\n",
       "    </tr>\n",
       "    <tr>\n",
       "      <th id=\"T_ab477_level0_row11\" class=\"row_heading level0 row11\" >12</th>\n",
       "      <td id=\"T_ab477_row11_col0\" class=\"data row11 col0\" >7987.000000</td>\n",
       "      <td id=\"T_ab477_row11_col1\" class=\"data row11 col1\" >7951.000000</td>\n",
       "      <td id=\"T_ab477_row11_col2\" class=\"data row11 col2\" >7535.000000</td>\n",
       "      <td id=\"T_ab477_row11_col3\" class=\"data row11 col3\" >nan</td>\n",
       "    </tr>\n",
       "  </tbody>\n",
       "</table>\n"
      ],
      "text/plain": [
       "<pandas.io.formats.style.Styler at 0x7f83ae1005b0>"
      ]
     },
     "execution_count": 71,
     "metadata": {},
     "output_type": "execute_result"
    }
   ],
   "source": [
    "#6. In which months were number of crimes below average?\n",
    "crimes = df.groupby(['YEAR','MONTH']).count()['INCIDENT_NUMBER'].mean()\n",
    "print(f\"The average number of crime is {crimes}\")\n",
    "\n",
    "year_month = df.groupby(['MONTH','YEAR']).count()['INCIDENT_NUMBER'].unstack() #Create a table\n",
    "\n",
    "#If the crime values in each month is less than the average value, highlight them with blue\n",
    "def style_negative(v,props=''):\n",
    "    return props if v<crimes else None \n",
    "\n",
    "s2 = year_month.style.applymap(style_negative, props = 'color:blue')\n",
    "\n",
    "s2\n"
   ]
  },
  {
   "cell_type": "code",
   "execution_count": 72,
   "id": "395fdf72",
   "metadata": {},
   "outputs": [
    {
     "data": {
      "text/html": [
       "<style type=\"text/css\">\n",
       "#T_ab477_row0_col1, #T_ab477_row0_col3, #T_ab477_row1_col1, #T_ab477_row1_col2, #T_ab477_row1_col3, #T_ab477_row2_col3, #T_ab477_row3_col3, #T_ab477_row5_col0, #T_ab477_row8_col3, #T_ab477_row10_col0, #T_ab477_row10_col1, #T_ab477_row10_col2, #T_ab477_row11_col1, #T_ab477_row11_col2 {\n",
       "  color: blue;\n",
       "}\n",
       "#T_ab477_row4_col3, #T_ab477_row7_col1, #T_ab477_row7_col2, #T_ab477_row8_col0 {\n",
       "  color: white;\n",
       "  background-color: darkgreen;\n",
       "}\n",
       "</style>\n",
       "<table id=\"T_ab477\">\n",
       "  <thead>\n",
       "    <tr>\n",
       "      <th class=\"index_name level0\" >YEAR</th>\n",
       "      <th id=\"T_ab477_level0_col0\" class=\"col_heading level0 col0\" >2015</th>\n",
       "      <th id=\"T_ab477_level0_col1\" class=\"col_heading level0 col1\" >2016</th>\n",
       "      <th id=\"T_ab477_level0_col2\" class=\"col_heading level0 col2\" >2017</th>\n",
       "      <th id=\"T_ab477_level0_col3\" class=\"col_heading level0 col3\" >2018</th>\n",
       "    </tr>\n",
       "    <tr>\n",
       "      <th class=\"index_name level0\" >MONTH</th>\n",
       "      <th class=\"blank col0\" >&nbsp;</th>\n",
       "      <th class=\"blank col1\" >&nbsp;</th>\n",
       "      <th class=\"blank col2\" >&nbsp;</th>\n",
       "      <th class=\"blank col3\" >&nbsp;</th>\n",
       "    </tr>\n",
       "  </thead>\n",
       "  <tbody>\n",
       "    <tr>\n",
       "      <th id=\"T_ab477_level0_row0\" class=\"row_heading level0 row0\" >1</th>\n",
       "      <td id=\"T_ab477_row0_col0\" class=\"data row0 col0\" >nan</td>\n",
       "      <td id=\"T_ab477_row0_col1\" class=\"data row0 col1\" >7835.000000</td>\n",
       "      <td id=\"T_ab477_row0_col2\" class=\"data row0 col2\" >7991.000000</td>\n",
       "      <td id=\"T_ab477_row0_col3\" class=\"data row0 col3\" >7782.000000</td>\n",
       "    </tr>\n",
       "    <tr>\n",
       "      <th id=\"T_ab477_level0_row1\" class=\"row_heading level0 row1\" >2</th>\n",
       "      <td id=\"T_ab477_row1_col0\" class=\"data row1 col0\" >nan</td>\n",
       "      <td id=\"T_ab477_row1_col1\" class=\"data row1 col1\" >7307.000000</td>\n",
       "      <td id=\"T_ab477_row1_col2\" class=\"data row1 col2\" >7408.000000</td>\n",
       "      <td id=\"T_ab477_row1_col3\" class=\"data row1 col3\" >6937.000000</td>\n",
       "    </tr>\n",
       "    <tr>\n",
       "      <th id=\"T_ab477_level0_row2\" class=\"row_heading level0 row2\" >3</th>\n",
       "      <td id=\"T_ab477_row2_col0\" class=\"data row2 col0\" >nan</td>\n",
       "      <td id=\"T_ab477_row2_col1\" class=\"data row2 col1\" >8199.000000</td>\n",
       "      <td id=\"T_ab477_row2_col2\" class=\"data row2 col2\" >8179.000000</td>\n",
       "      <td id=\"T_ab477_row2_col3\" class=\"data row2 col3\" >7768.000000</td>\n",
       "    </tr>\n",
       "    <tr>\n",
       "      <th id=\"T_ab477_level0_row3\" class=\"row_heading level0 row3\" >4</th>\n",
       "      <td id=\"T_ab477_row3_col0\" class=\"data row3 col0\" >nan</td>\n",
       "      <td id=\"T_ab477_row3_col1\" class=\"data row3 col1\" >8101.000000</td>\n",
       "      <td id=\"T_ab477_row3_col2\" class=\"data row3 col2\" >8069.000000</td>\n",
       "      <td id=\"T_ab477_row3_col3\" class=\"data row3 col3\" >7916.000000</td>\n",
       "    </tr>\n",
       "    <tr>\n",
       "      <th id=\"T_ab477_level0_row4\" class=\"row_heading level0 row4\" >5</th>\n",
       "      <td id=\"T_ab477_row4_col0\" class=\"data row4 col0\" >nan</td>\n",
       "      <td id=\"T_ab477_row4_col1\" class=\"data row4 col1\" >8578.000000</td>\n",
       "      <td id=\"T_ab477_row4_col2\" class=\"data row4 col2\" >8715.000000</td>\n",
       "      <td id=\"T_ab477_row4_col3\" class=\"data row4 col3\" >8906.000000</td>\n",
       "    </tr>\n",
       "    <tr>\n",
       "      <th id=\"T_ab477_level0_row5\" class=\"row_heading level0 row5\" >6</th>\n",
       "      <td id=\"T_ab477_row5_col0\" class=\"data row5 col0\" >4188.000000</td>\n",
       "      <td id=\"T_ab477_row5_col1\" class=\"data row5 col1\" >8558.000000</td>\n",
       "      <td id=\"T_ab477_row5_col2\" class=\"data row5 col2\" >8985.000000</td>\n",
       "      <td id=\"T_ab477_row5_col3\" class=\"data row5 col3\" >8834.000000</td>\n",
       "    </tr>\n",
       "    <tr>\n",
       "      <th id=\"T_ab477_level0_row6\" class=\"row_heading level0 row6\" >7</th>\n",
       "      <td id=\"T_ab477_row6_col0\" class=\"data row6 col0\" >8322.000000</td>\n",
       "      <td id=\"T_ab477_row6_col1\" class=\"data row6 col1\" >8618.000000</td>\n",
       "      <td id=\"T_ab477_row6_col2\" class=\"data row6 col2\" >9075.000000</td>\n",
       "      <td id=\"T_ab477_row6_col3\" class=\"data row6 col3\" >8538.000000</td>\n",
       "    </tr>\n",
       "    <tr>\n",
       "      <th id=\"T_ab477_level0_row7\" class=\"row_heading level0 row7\" >8</th>\n",
       "      <td id=\"T_ab477_row7_col0\" class=\"data row7 col0\" >8340.000000</td>\n",
       "      <td id=\"T_ab477_row7_col1\" class=\"data row7 col1\" >8938.000000</td>\n",
       "      <td id=\"T_ab477_row7_col2\" class=\"data row7 col2\" >9206.000000</td>\n",
       "      <td id=\"T_ab477_row7_col3\" class=\"data row7 col3\" >8337.000000</td>\n",
       "    </tr>\n",
       "    <tr>\n",
       "      <th id=\"T_ab477_level0_row8\" class=\"row_heading level0 row8\" >9</th>\n",
       "      <td id=\"T_ab477_row8_col0\" class=\"data row8 col0\" >8411.000000</td>\n",
       "      <td id=\"T_ab477_row8_col1\" class=\"data row8 col1\" >8521.000000</td>\n",
       "      <td id=\"T_ab477_row8_col2\" class=\"data row8 col2\" >8940.000000</td>\n",
       "      <td id=\"T_ab477_row8_col3\" class=\"data row8 col3\" >667.000000</td>\n",
       "    </tr>\n",
       "    <tr>\n",
       "      <th id=\"T_ab477_level0_row9\" class=\"row_heading level0 row9\" >10</th>\n",
       "      <td id=\"T_ab477_row9_col0\" class=\"data row9 col0\" >8305.000000</td>\n",
       "      <td id=\"T_ab477_row9_col1\" class=\"data row9 col1\" >8582.000000</td>\n",
       "      <td id=\"T_ab477_row9_col2\" class=\"data row9 col2\" >8846.000000</td>\n",
       "      <td id=\"T_ab477_row9_col3\" class=\"data row9 col3\" >nan</td>\n",
       "    </tr>\n",
       "    <tr>\n",
       "      <th id=\"T_ab477_level0_row10\" class=\"row_heading level0 row10\" >11</th>\n",
       "      <td id=\"T_ab477_row10_col0\" class=\"data row10 col0\" >7818.000000</td>\n",
       "      <td id=\"T_ab477_row10_col1\" class=\"data row10 col1\" >7922.000000</td>\n",
       "      <td id=\"T_ab477_row10_col2\" class=\"data row10 col2\" >7935.000000</td>\n",
       "      <td id=\"T_ab477_row10_col3\" class=\"data row10 col3\" >nan</td>\n",
       "    </tr>\n",
       "    <tr>\n",
       "      <th id=\"T_ab477_level0_row11\" class=\"row_heading level0 row11\" >12</th>\n",
       "      <td id=\"T_ab477_row11_col0\" class=\"data row11 col0\" >7987.000000</td>\n",
       "      <td id=\"T_ab477_row11_col1\" class=\"data row11 col1\" >7951.000000</td>\n",
       "      <td id=\"T_ab477_row11_col2\" class=\"data row11 col2\" >7535.000000</td>\n",
       "      <td id=\"T_ab477_row11_col3\" class=\"data row11 col3\" >nan</td>\n",
       "    </tr>\n",
       "  </tbody>\n",
       "</table>\n"
      ],
      "text/plain": [
       "<pandas.io.formats.style.Styler at 0x7f83ae1005b0>"
      ]
     },
     "execution_count": 72,
     "metadata": {},
     "output_type": "execute_result"
    }
   ],
   "source": [
    "#7. Use apply() to highlight the maximum in dark green\n",
    "def highlight_max(s,props=''):\n",
    "    return np.where(s == np.nanmax(s.values),props,'')\n",
    "\n",
    "s2.apply(highlight_max,props='color:white;background-color:darkgreen', axis=0)"
   ]
  },
  {
   "cell_type": "code",
   "execution_count": 73,
   "id": "bd1070ed",
   "metadata": {},
   "outputs": [
    {
     "data": {
      "text/html": [
       "<div>\n",
       "<style scoped>\n",
       "    .dataframe tbody tr th:only-of-type {\n",
       "        vertical-align: middle;\n",
       "    }\n",
       "\n",
       "    .dataframe tbody tr th {\n",
       "        vertical-align: top;\n",
       "    }\n",
       "\n",
       "    .dataframe thead th {\n",
       "        text-align: right;\n",
       "    }\n",
       "</style>\n",
       "<table border=\"1\" class=\"dataframe\">\n",
       "  <thead>\n",
       "    <tr style=\"text-align: right;\">\n",
       "      <th>YEAR</th>\n",
       "      <th>2015</th>\n",
       "      <th>2016</th>\n",
       "      <th>2017</th>\n",
       "      <th>2018</th>\n",
       "    </tr>\n",
       "    <tr>\n",
       "      <th>DISTRICT</th>\n",
       "      <th></th>\n",
       "      <th></th>\n",
       "      <th></th>\n",
       "      <th></th>\n",
       "    </tr>\n",
       "  </thead>\n",
       "  <tbody>\n",
       "    <tr>\n",
       "      <th>A1</th>\n",
       "      <td>6010</td>\n",
       "      <td>10922</td>\n",
       "      <td>11374</td>\n",
       "      <td>7404</td>\n",
       "    </tr>\n",
       "    <tr>\n",
       "      <th>A15</th>\n",
       "      <td>1027</td>\n",
       "      <td>1986</td>\n",
       "      <td>2167</td>\n",
       "      <td>1325</td>\n",
       "    </tr>\n",
       "    <tr>\n",
       "      <th>A7</th>\n",
       "      <td>2426</td>\n",
       "      <td>4130</td>\n",
       "      <td>4264</td>\n",
       "      <td>2724</td>\n",
       "    </tr>\n",
       "    <tr>\n",
       "      <th>B2</th>\n",
       "      <td>8682</td>\n",
       "      <td>15706</td>\n",
       "      <td>15680</td>\n",
       "      <td>9872</td>\n",
       "    </tr>\n",
       "    <tr>\n",
       "      <th>B3</th>\n",
       "      <td>5616</td>\n",
       "      <td>11145</td>\n",
       "      <td>11195</td>\n",
       "      <td>7485</td>\n",
       "    </tr>\n",
       "    <tr>\n",
       "      <th>C11</th>\n",
       "      <td>7363</td>\n",
       "      <td>13602</td>\n",
       "      <td>13281</td>\n",
       "      <td>8282</td>\n",
       "    </tr>\n",
       "    <tr>\n",
       "      <th>C6</th>\n",
       "      <td>3939</td>\n",
       "      <td>7072</td>\n",
       "      <td>7247</td>\n",
       "      <td>5199</td>\n",
       "    </tr>\n",
       "    <tr>\n",
       "      <th>D14</th>\n",
       "      <td>3280</td>\n",
       "      <td>6279</td>\n",
       "      <td>6509</td>\n",
       "      <td>4059</td>\n",
       "    </tr>\n",
       "    <tr>\n",
       "      <th>D4</th>\n",
       "      <td>7203</td>\n",
       "      <td>12953</td>\n",
       "      <td>13157</td>\n",
       "      <td>8601</td>\n",
       "    </tr>\n",
       "    <tr>\n",
       "      <th>E13</th>\n",
       "      <td>2800</td>\n",
       "      <td>5558</td>\n",
       "      <td>5514</td>\n",
       "      <td>3662</td>\n",
       "    </tr>\n",
       "    <tr>\n",
       "      <th>E18</th>\n",
       "      <td>2740</td>\n",
       "      <td>5223</td>\n",
       "      <td>5611</td>\n",
       "      <td>3773</td>\n",
       "    </tr>\n",
       "    <tr>\n",
       "      <th>E5</th>\n",
       "      <td>2157</td>\n",
       "      <td>4017</td>\n",
       "      <td>4309</td>\n",
       "      <td>2755</td>\n",
       "    </tr>\n",
       "  </tbody>\n",
       "</table>\n",
       "</div>"
      ],
      "text/plain": [
       "YEAR      2015   2016   2017  2018\n",
       "DISTRICT                          \n",
       "A1        6010  10922  11374  7404\n",
       "A15       1027   1986   2167  1325\n",
       "A7        2426   4130   4264  2724\n",
       "B2        8682  15706  15680  9872\n",
       "B3        5616  11145  11195  7485\n",
       "C11       7363  13602  13281  8282\n",
       "C6        3939   7072   7247  5199\n",
       "D14       3280   6279   6509  4059\n",
       "D4        7203  12953  13157  8601\n",
       "E13       2800   5558   5514  3662\n",
       "E18       2740   5223   5611  3773\n",
       "E5        2157   4017   4309  2755"
      ]
     },
     "execution_count": 73,
     "metadata": {},
     "output_type": "execute_result"
    }
   ],
   "source": [
    "#8. In which districts were the most crimes committed on yearly basis?\n",
    "year_district = df.groupby(['DISTRICT','YEAR']).count()['INCIDENT_NUMBER'].unstack()\n",
    "year_district"
   ]
  },
  {
   "cell_type": "code",
   "execution_count": 74,
   "id": "ba678a71",
   "metadata": {},
   "outputs": [
    {
     "data": {
      "text/html": [
       "<style type=\"text/css\">\n",
       "#T_14709_row3_col0, #T_14709_row3_col1, #T_14709_row3_col2, #T_14709_row3_col3 {\n",
       "  color: red;\n",
       "  background-color: yellow;\n",
       "}\n",
       "</style>\n",
       "<table id=\"T_14709\">\n",
       "  <thead>\n",
       "    <tr>\n",
       "      <th class=\"index_name level0\" >YEAR</th>\n",
       "      <th id=\"T_14709_level0_col0\" class=\"col_heading level0 col0\" >2015</th>\n",
       "      <th id=\"T_14709_level0_col1\" class=\"col_heading level0 col1\" >2016</th>\n",
       "      <th id=\"T_14709_level0_col2\" class=\"col_heading level0 col2\" >2017</th>\n",
       "      <th id=\"T_14709_level0_col3\" class=\"col_heading level0 col3\" >2018</th>\n",
       "    </tr>\n",
       "    <tr>\n",
       "      <th class=\"index_name level0\" >DISTRICT</th>\n",
       "      <th class=\"blank col0\" >&nbsp;</th>\n",
       "      <th class=\"blank col1\" >&nbsp;</th>\n",
       "      <th class=\"blank col2\" >&nbsp;</th>\n",
       "      <th class=\"blank col3\" >&nbsp;</th>\n",
       "    </tr>\n",
       "  </thead>\n",
       "  <tbody>\n",
       "    <tr>\n",
       "      <th id=\"T_14709_level0_row0\" class=\"row_heading level0 row0\" >A1</th>\n",
       "      <td id=\"T_14709_row0_col0\" class=\"data row0 col0\" >6010</td>\n",
       "      <td id=\"T_14709_row0_col1\" class=\"data row0 col1\" >10922</td>\n",
       "      <td id=\"T_14709_row0_col2\" class=\"data row0 col2\" >11374</td>\n",
       "      <td id=\"T_14709_row0_col3\" class=\"data row0 col3\" >7404</td>\n",
       "    </tr>\n",
       "    <tr>\n",
       "      <th id=\"T_14709_level0_row1\" class=\"row_heading level0 row1\" >A15</th>\n",
       "      <td id=\"T_14709_row1_col0\" class=\"data row1 col0\" >1027</td>\n",
       "      <td id=\"T_14709_row1_col1\" class=\"data row1 col1\" >1986</td>\n",
       "      <td id=\"T_14709_row1_col2\" class=\"data row1 col2\" >2167</td>\n",
       "      <td id=\"T_14709_row1_col3\" class=\"data row1 col3\" >1325</td>\n",
       "    </tr>\n",
       "    <tr>\n",
       "      <th id=\"T_14709_level0_row2\" class=\"row_heading level0 row2\" >A7</th>\n",
       "      <td id=\"T_14709_row2_col0\" class=\"data row2 col0\" >2426</td>\n",
       "      <td id=\"T_14709_row2_col1\" class=\"data row2 col1\" >4130</td>\n",
       "      <td id=\"T_14709_row2_col2\" class=\"data row2 col2\" >4264</td>\n",
       "      <td id=\"T_14709_row2_col3\" class=\"data row2 col3\" >2724</td>\n",
       "    </tr>\n",
       "    <tr>\n",
       "      <th id=\"T_14709_level0_row3\" class=\"row_heading level0 row3\" >B2</th>\n",
       "      <td id=\"T_14709_row3_col0\" class=\"data row3 col0\" >8682</td>\n",
       "      <td id=\"T_14709_row3_col1\" class=\"data row3 col1\" >15706</td>\n",
       "      <td id=\"T_14709_row3_col2\" class=\"data row3 col2\" >15680</td>\n",
       "      <td id=\"T_14709_row3_col3\" class=\"data row3 col3\" >9872</td>\n",
       "    </tr>\n",
       "    <tr>\n",
       "      <th id=\"T_14709_level0_row4\" class=\"row_heading level0 row4\" >B3</th>\n",
       "      <td id=\"T_14709_row4_col0\" class=\"data row4 col0\" >5616</td>\n",
       "      <td id=\"T_14709_row4_col1\" class=\"data row4 col1\" >11145</td>\n",
       "      <td id=\"T_14709_row4_col2\" class=\"data row4 col2\" >11195</td>\n",
       "      <td id=\"T_14709_row4_col3\" class=\"data row4 col3\" >7485</td>\n",
       "    </tr>\n",
       "    <tr>\n",
       "      <th id=\"T_14709_level0_row5\" class=\"row_heading level0 row5\" >C11</th>\n",
       "      <td id=\"T_14709_row5_col0\" class=\"data row5 col0\" >7363</td>\n",
       "      <td id=\"T_14709_row5_col1\" class=\"data row5 col1\" >13602</td>\n",
       "      <td id=\"T_14709_row5_col2\" class=\"data row5 col2\" >13281</td>\n",
       "      <td id=\"T_14709_row5_col3\" class=\"data row5 col3\" >8282</td>\n",
       "    </tr>\n",
       "    <tr>\n",
       "      <th id=\"T_14709_level0_row6\" class=\"row_heading level0 row6\" >C6</th>\n",
       "      <td id=\"T_14709_row6_col0\" class=\"data row6 col0\" >3939</td>\n",
       "      <td id=\"T_14709_row6_col1\" class=\"data row6 col1\" >7072</td>\n",
       "      <td id=\"T_14709_row6_col2\" class=\"data row6 col2\" >7247</td>\n",
       "      <td id=\"T_14709_row6_col3\" class=\"data row6 col3\" >5199</td>\n",
       "    </tr>\n",
       "    <tr>\n",
       "      <th id=\"T_14709_level0_row7\" class=\"row_heading level0 row7\" >D14</th>\n",
       "      <td id=\"T_14709_row7_col0\" class=\"data row7 col0\" >3280</td>\n",
       "      <td id=\"T_14709_row7_col1\" class=\"data row7 col1\" >6279</td>\n",
       "      <td id=\"T_14709_row7_col2\" class=\"data row7 col2\" >6509</td>\n",
       "      <td id=\"T_14709_row7_col3\" class=\"data row7 col3\" >4059</td>\n",
       "    </tr>\n",
       "    <tr>\n",
       "      <th id=\"T_14709_level0_row8\" class=\"row_heading level0 row8\" >D4</th>\n",
       "      <td id=\"T_14709_row8_col0\" class=\"data row8 col0\" >7203</td>\n",
       "      <td id=\"T_14709_row8_col1\" class=\"data row8 col1\" >12953</td>\n",
       "      <td id=\"T_14709_row8_col2\" class=\"data row8 col2\" >13157</td>\n",
       "      <td id=\"T_14709_row8_col3\" class=\"data row8 col3\" >8601</td>\n",
       "    </tr>\n",
       "    <tr>\n",
       "      <th id=\"T_14709_level0_row9\" class=\"row_heading level0 row9\" >E13</th>\n",
       "      <td id=\"T_14709_row9_col0\" class=\"data row9 col0\" >2800</td>\n",
       "      <td id=\"T_14709_row9_col1\" class=\"data row9 col1\" >5558</td>\n",
       "      <td id=\"T_14709_row9_col2\" class=\"data row9 col2\" >5514</td>\n",
       "      <td id=\"T_14709_row9_col3\" class=\"data row9 col3\" >3662</td>\n",
       "    </tr>\n",
       "    <tr>\n",
       "      <th id=\"T_14709_level0_row10\" class=\"row_heading level0 row10\" >E18</th>\n",
       "      <td id=\"T_14709_row10_col0\" class=\"data row10 col0\" >2740</td>\n",
       "      <td id=\"T_14709_row10_col1\" class=\"data row10 col1\" >5223</td>\n",
       "      <td id=\"T_14709_row10_col2\" class=\"data row10 col2\" >5611</td>\n",
       "      <td id=\"T_14709_row10_col3\" class=\"data row10 col3\" >3773</td>\n",
       "    </tr>\n",
       "    <tr>\n",
       "      <th id=\"T_14709_level0_row11\" class=\"row_heading level0 row11\" >E5</th>\n",
       "      <td id=\"T_14709_row11_col0\" class=\"data row11 col0\" >2157</td>\n",
       "      <td id=\"T_14709_row11_col1\" class=\"data row11 col1\" >4017</td>\n",
       "      <td id=\"T_14709_row11_col2\" class=\"data row11 col2\" >4309</td>\n",
       "      <td id=\"T_14709_row11_col3\" class=\"data row11 col3\" >2755</td>\n",
       "    </tr>\n",
       "  </tbody>\n",
       "</table>\n"
      ],
      "text/plain": [
       "<pandas.io.formats.style.Styler at 0x7f83b0254670>"
      ]
     },
     "execution_count": 74,
     "metadata": {},
     "output_type": "execute_result"
    }
   ],
   "source": [
    "#Highlight the highest crimes in each year\n",
    "def style(d,props=''):\n",
    "    return np.where(d==np.nanmax(d.values),props,'')\n",
    "\n",
    "year_district.style.apply(style,props='color:red;background-color:yellow',axis=0)\n"
   ]
  }
 ],
 "metadata": {
  "kernelspec": {
   "display_name": "Python 3 (ipykernel)",
   "language": "python",
   "name": "python3"
  },
  "language_info": {
   "codemirror_mode": {
    "name": "ipython",
    "version": 3
   },
   "file_extension": ".py",
   "mimetype": "text/x-python",
   "name": "python",
   "nbconvert_exporter": "python",
   "pygments_lexer": "ipython3",
   "version": "3.9.12"
  }
 },
 "nbformat": 4,
 "nbformat_minor": 5
}
