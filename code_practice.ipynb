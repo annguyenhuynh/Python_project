{
 "cells": [
  {
   "cell_type": "code",
   "execution_count": null,
   "metadata": {},
   "outputs": [],
   "source": [
    "# leap year\n",
    "def leap_year(year):\n",
    "    leap = False\n",
    "    if year % 4 == 0:\n",
    "        if year % 100 == 0:\n",
    "            if year % 400 == 0:\n",
    "                leap = True\n",
    "        else:\n",
    "            leap = True\n",
    "    return leap"
   ]
  },
  {
   "cell_type": "code",
   "execution_count": 7,
   "metadata": {},
   "outputs": [
    {
     "name": "stdout",
     "output_type": "stream",
     "text": [
      "123456789"
     ]
    }
   ],
   "source": [
    "#Print out all numbers before a given number\n",
    "\n",
    "n=int(input(\"Enter a number: \"))\n",
    "\n",
    "for i in range (1, n+1):\n",
    "    print(i,end= '')"
   ]
  },
  {
   "cell_type": "code",
   "execution_count": 8,
   "metadata": {},
   "outputs": [
    {
     "name": "stdout",
     "output_type": "stream",
     "text": [
      "[[0, 0, 0], [0, 0, 1], [0, 0, 2], [0, 0, 3], [0, 1, 0], [0, 1, 1], [0, 1, 2], [0, 1, 3], [0, 2, 0], [0, 2, 1], [0, 2, 2], [0, 2, 3], [1, 0, 0], [1, 0, 1], [1, 0, 2], [1, 0, 3], [1, 1, 0], [1, 1, 1], [1, 1, 2], [1, 1, 3], [1, 2, 0], [1, 2, 1], [1, 2, 2]]\n"
     ]
    }
   ],
   "source": [
    "# Permutations\n",
    "\"\"\"The problem:\n",
    "You need to generate all possible lists [i,lj,k]\n",
    "where i in range 0 to x, j in range 0 to y, k in range 0 to z\n",
    "But you must exclude any list where the sum of 3 numbers equal to n\"\"\"\n",
    "\n",
    "x = int(input(\"Enter x: \"))\n",
    "y = int(input(\"Enter y: \"))\n",
    "z = int(input(\"Enter z: \"))\n",
    "n = int(input(\"Enter n: \"))\n",
    "\n",
    "result = [[i,j,k]\n",
    "          for i in range(x+1)\n",
    "          for j in range(y+1)\n",
    "          for k in range(z+1)\n",
    "          if i+j+k != n] \n",
    "print (result)"
   ]
  },
  {
   "cell_type": "code",
   "execution_count": 10,
   "metadata": {},
   "outputs": [
    {
     "name": "stdout",
     "output_type": "stream",
     "text": [
      "5\n"
     ]
    }
   ],
   "source": [
    "# Runner-up score\n",
    "score = int(input(\"Enter a number: \"))\n",
    "arr = map(int, input().split())\n",
    "\n",
    "score = sorted(set(arr), reverse=True)\n",
    "runner_up = score[1]\n",
    "print(runner_up)\n"
   ]
  },
  {
   "cell_type": "code",
   "execution_count": null,
   "metadata": {},
   "outputs": [],
   "source": [
    "# Find the second \n",
    "n = int(input())\n",
    "\n",
    "students = []\n",
    "\n",
    "for _ in range(n):\n",
    "    name = input()\n",
    "    scores = float(input())\n",
    "    students.append([name,scores])\n",
    "\n",
    "# Generate unique scores\n",
    "unique_scores = sorted({s for _, s in students})\n",
    "\n",
    "# Get the second lowest scores \n",
    "second_score = unique_scores[1]\n",
    "\n",
    "# Print out the name of the person of the second lowest score\n",
    "second_score_name = sorted([name for name, s in students if s == second_score ])\n",
    "\n",
    "for name in second_score_name:\n",
    "    print(name)\n",
    "                           \n",
    "# The reson we use placeholder is because we tell Python tp “Run this loop a certain number of times (whatever number the user enters),\n",
    "# but I don’t actually need to use the loop variable.”"
   ]
  },
  {
   "cell_type": "markdown",
   "metadata": {},
   "source": [
    "* Step-by-step breakdown:\n",
    "\n",
    "**for _, s in students**\n",
    "\n",
    "students is a list of lists (nested list) — e.g.\n",
    "\n",
    "students = [[\"Harry\", 37.21], [\"Berry\", 37.21], [\"Tina\", 37.2]]\n",
    "\n",
    "\n",
    "* When you write for _, s in students, each sublist [name, score] is unpacked into two variables:\n",
    "\n",
    "_ → gets the name (we don’t use it, so _ is a placeholder)\n",
    "\n",
    "s → gets the score\n",
    "\n",
    "{s for _, s in students}\n",
    "\n",
    "* This is a set comprehension — it builds a set of all the s (scores).\n",
    "\n",
    "* The curly braces {} mean \"make a set\" (unique values only)."
   ]
  },
  {
   "cell_type": "code",
   "execution_count": 6,
   "metadata": {},
   "outputs": [
    {
     "name": "stdout",
     "output_type": "stream",
     "text": [
      "68.00\n",
      "77.00\n",
      "56.00\n"
     ]
    }
   ],
   "source": [
    "# Print out the average score of each student in the query. Scores are stored as list of values\n",
    "\n",
    "n = int(input())\n",
    "students = {}\n",
    "\n",
    "for _ in range(n):\n",
    "    data = input().split()\n",
    "    name = data[0]\n",
    "    scores = list(map(float, data[1:]))\n",
    "    students[name] = scores \n",
    "\n",
    "    query_name = input().strip()\n",
    "\n",
    "    avg_score = sum(students[query_name])/len(students[query_name])\n",
    "\n",
    "    print(f\"{avg_score:.2f}\")\n"
   ]
  },
  {
   "cell_type": "code",
   "execution_count": null,
   "metadata": {},
   "outputs": [],
   "source": []
  }
 ],
 "metadata": {
  "kernelspec": {
   "display_name": "base",
   "language": "python",
   "name": "python3"
  },
  "language_info": {
   "codemirror_mode": {
    "name": "ipython",
    "version": 3
   },
   "file_extension": ".py",
   "mimetype": "text/x-python",
   "name": "python",
   "nbconvert_exporter": "python",
   "pygments_lexer": "ipython3",
   "version": "3.12.7"
  }
 },
 "nbformat": 4,
 "nbformat_minor": 2
}
